{
 "cells": [
  {
   "cell_type": "code",
   "execution_count": 1,
   "metadata": {},
   "outputs": [],
   "source": [
    "import numpy as np"
   ]
  },
  {
   "cell_type": "code",
   "execution_count": 10,
   "metadata": {},
   "outputs": [],
   "source": [
    "AI = 'G'\n",
    "turn = 'G'\n",
    "board = np.zeros((11,11),dtype = int)"
   ]
  },
  {
   "cell_type": "code",
   "execution_count": 8,
   "metadata": {},
   "outputs": [],
   "source": [
    "board_start = np.array([[0,0,0,0,0,0,0,0,0,0,0], # possible initial setup to start from\n",
    "                       [0,0,0,1,1,1,1,1,1,0,0],\n",
    "                       [0,0,0,0,0,0,0,0,0,0,0],\n",
    "                       [0,1,0,0,2,2,2,0,0,1,0],\n",
    "                       [0,1,0,2,0,0,0,2,0,1,0],\n",
    "                       [0,1,0,2,0,3,0,2,0,1,0],\n",
    "                       [0,1,0,2,0,0,0,2,0,1,0],\n",
    "                       [0,1,0,0,2,2,2,0,0,1,0],\n",
    "                       [0,0,0,0,0,0,0,0,0,0,0],\n",
    "                       [0,0,0,1,1,1,1,1,1,0,0],\n",
    "                       [0,0,0,0,0,0,0,0,0,0,0]])"
   ]
  },
  {
   "cell_type": "code",
   "execution_count": 11,
   "metadata": {},
   "outputs": [
    {
     "ename": "SyntaxError",
     "evalue": "invalid syntax (<ipython-input-11-19b20525b828>, line 1)",
     "output_type": "error",
     "traceback": [
      "\u001b[0;36m  File \u001b[0;32m\"<ipython-input-11-19b20525b828>\"\u001b[0;36m, line \u001b[0;32m1\u001b[0m\n\u001b[0;31m    def make_move(start,dest,turn)\u001b[0m\n\u001b[0m                                  ^\u001b[0m\n\u001b[0;31mSyntaxError\u001b[0m\u001b[0;31m:\u001b[0m invalid syntax\n"
     ]
    }
   ],
   "source": [
    "def make_move(startx,starty,destx,desty,turn):\n",
    "    if board[startx][starty] == 0:\n",
    "        #throw error\n",
    "    elif turn = 'G' && board[startx][starty] == 1:\n",
    "        #throw error\n",
    "    elif turn = 'S' && board[startx][starty] != 1:\n",
    "        #throw error"
   ]
  },
  {
   "cell_type": "code",
   "execution_count": null,
   "metadata": {},
   "outputs": [],
   "source": []
  }
 ],
 "metadata": {
  "kernelspec": {
   "display_name": "Python 3",
   "language": "python",
   "name": "python3"
  },
  "language_info": {
   "codemirror_mode": {
    "name": "ipython",
    "version": 3
   },
   "file_extension": ".py",
   "mimetype": "text/x-python",
   "name": "python",
   "nbconvert_exporter": "python",
   "pygments_lexer": "ipython3",
   "version": "3.7.3"
  }
 },
 "nbformat": 4,
 "nbformat_minor": 4
}
